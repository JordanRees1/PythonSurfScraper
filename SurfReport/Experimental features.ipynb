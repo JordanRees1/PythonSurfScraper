{
 "cells": [
  {
   "cell_type": "code",
   "execution_count": null,
   "metadata": {},
   "outputs": [],
   "source": [
    "soup = get_webpage('https://www.surf-forecast.com/breaks/Tynemouth-Longsands/forecasts/latest')\n",
    "\n",
    "count = 0 \n",
    "day = 1\n",
    "date_  = date.today()\n",
    "master = []\n",
    "hight_tides = soup.select('tr[data-row-name=\"high-tide\"]') # get high tide rows\n",
    "\n",
    "for td in hight_tides.find_all('div >', attrs={\"data-row_name\": \"high_tide\"}):\n",
    "    count += 1\n",
    "    \n",
    "    master.append({'Day':date_.strftime(\"%A\"), 'Date':date_.strftime(\"%d/%m\"), 'Tide':td.text})\n",
    "        \n",
    "        \n",
    "        \n",
    "    # increment day when count is multiple of 7 \n",
    "    if count % 14 == 0:\n",
    "        day += 1\n",
    "        date_ += timedelta(days=1)\n",
    "        \n",
    "            \n",
    "    # Don't need the eigth day as MSW only does 7\n",
    "    if day == 8:\n",
    "        break\n",
    "\n",
    "tides = pd.DataFrame(master)\n",
    "\n",
    "# pandas remove empty strings from dataframe\n",
    "tides.loc[tides['Tide'] != '']"
   ]
  }
 ],
 "metadata": {
  "kernelspec": {
   "display_name": "Python 3.9.7 ('base')",
   "language": "python",
   "name": "python3"
  },
  "language_info": {
   "name": "python",
   "version": "3.9.7"
  },
  "orig_nbformat": 4,
  "vscode": {
   "interpreter": {
    "hash": "f49206fcf84a9145e7e21228cbafa911d1ac18292303b01e865d8267a9c448f7"
   }
  }
 },
 "nbformat": 4,
 "nbformat_minor": 2
}
